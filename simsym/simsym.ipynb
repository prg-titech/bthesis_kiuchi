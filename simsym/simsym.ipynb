{
 "cells": [
  {
   "cell_type": "code",
   "execution_count": 12,
   "metadata": {},
   "outputs": [],
   "source": [
    "from simsym import g, t, Object, eqs, subs\n",
    "from sympy.physics.units import Quantity, length, time\n",
    "from sympy.physics.units.systems import SI\n",
    "from sympy import Eq, latex\n",
    "from IPython.display import Math"
   ]
  },
  {
   "cell_type": "code",
   "execution_count": 13,
   "metadata": {},
   "outputs": [],
   "source": [
    "A = Object('A')"
   ]
  },
  {
   "cell_type": "code",
   "execution_count": 14,
   "metadata": {},
   "outputs": [],
   "source": [
    "A.v0x = Quantity('v0x', latex_repr='v_{0x}')\n",
    "SI.set_quantity_dimension(A.v0x, dimension=length/time)\n",
    "A.v0y = Quantity('v0y', latex_repr='v_{0y}')\n",
    "SI.set_quantity_dimension(A.v0y, dimension=length/time)"
   ]
  },
  {
   "cell_type": "code",
   "execution_count": 17,
   "metadata": {},
   "outputs": [
    {
     "data": {
      "text/latex": [
       "$\\displaystyle v_{Ax} = v_{0x}$"
      ],
      "text/plain": [
       "Eq(vAx, v0x)"
      ]
     },
     "metadata": {},
     "output_type": "display_data"
    },
    {
     "data": {
      "text/latex": [
       "$\\displaystyle v_{Ay} = - g t + v_{0y}$"
      ],
      "text/plain": [
       "Eq(vAy, -g*t + v0y)"
      ]
     },
     "metadata": {},
     "output_type": "display_data"
    },
    {
     "data": {
      "text/latex": [
       "$\\displaystyle x_A = t v_{0x}$"
      ],
      "text/plain": [
       "Eq(xA, t*v0x)"
      ]
     },
     "metadata": {},
     "output_type": "display_data"
    },
    {
     "data": {
      "text/latex": [
       "$\\displaystyle y_A = - \\frac{g t^{2}}{2} + t v_{0y}$"
      ],
      "text/plain": [
       "Eq(yA, -g*t**2/2 + t*v0y)"
      ]
     },
     "metadata": {},
     "output_type": "display_data"
    }
   ],
   "source": [
    "eqs.reset()\n",
    "eqs.append(Eq(A.vx, A.v0x))\n",
    "eqs.append(Eq(A.vy, A.v0y - g * t))\n",
    "eqs.append(Eq(A.x, A.v0x * t))\n",
    "eqs.append(Eq(A.y, A.v0y * t - g * t**2 / 2))\n",
    "for eq in eqs.eqs: display(eq)"
   ]
  },
  {
   "cell_type": "code",
   "execution_count": 18,
   "metadata": {},
   "outputs": [
    {
     "data": {
      "text/latex": [
       "$\\displaystyle v_{Ax} = 3$"
      ],
      "text/plain": [
       "<IPython.core.display.Math object>"
      ]
     },
     "metadata": {},
     "output_type": "display_data"
    },
    {
     "data": {
      "text/latex": [
       "$\\displaystyle v_{Ay} = 0$"
      ],
      "text/plain": [
       "<IPython.core.display.Math object>"
      ]
     },
     "metadata": {},
     "output_type": "display_data"
    },
    {
     "data": {
      "text/latex": [
       "$\\displaystyle x_A = 6$"
      ],
      "text/plain": [
       "<IPython.core.display.Math object>"
      ]
     },
     "metadata": {},
     "output_type": "display_data"
    },
    {
     "data": {
      "text/latex": [
       "$\\displaystyle y_A = 4$"
      ],
      "text/plain": [
       "<IPython.core.display.Math object>"
      ]
     },
     "metadata": {},
     "output_type": "display_data"
    }
   ],
   "source": [
    "param = {t: 2, g: 2, A.v0x: 3, A.v0y: 4}\n",
    "for lhs, rhs in subs(A, param):\n",
    "  display(Math(f'{latex(lhs)} = {latex(rhs)}'))"
   ]
  }
 ],
 "metadata": {
  "kernelspec": {
   "display_name": "Python 3 (ipykernel)",
   "language": "python",
   "name": "python3"
  },
  "language_info": {
   "codemirror_mode": {
    "name": "ipython",
    "version": 3
   },
   "file_extension": ".py",
   "mimetype": "text/x-python",
   "name": "python",
   "nbconvert_exporter": "python",
   "pygments_lexer": "ipython3",
   "version": "3.10.1"
  },
  "vscode": {
   "interpreter": {
    "hash": "891e2e029516d770cbdf1f158c690bfcad47aa75e75b31557e86b5eedb340ad0"
   }
  }
 },
 "nbformat": 4,
 "nbformat_minor": 4
}
