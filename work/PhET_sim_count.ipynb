{
 "cells": [
  {
   "cell_type": "code",
   "execution_count": 20,
   "metadata": {},
   "outputs": [],
   "source": [
    "import csv"
   ]
  },
  {
   "cell_type": "code",
   "execution_count": 34,
   "metadata": {},
   "outputs": [
    {
     "name": "stdout",
     "output_type": "stream",
     "text": [
      "{('1', '1', '1', '1'): ['My Solar System', 'Density', 'Energy Forms and Changes', 'Wave Interference', 'Circuit Construction Kit: DC - Virtual Lab', 'Circuit Construction Kit: DC', 'Pendulum Lab', 'Projectile Motion', 'Gravity and Orbits', 'Bending Light', 'Energy Skate Park: Basics', 'Color Vision', 'Balancing Act', 'Friction', 'Forces and Motion: Basics', 'John Travoltage', 'Balloons and Static Electricity'], ('1', '1', '1', '0'): ['Geometric Optics: Basics', 'Gravity Force Lab: Basics', 'Waves Intro', 'States of Matter: Basics'], ('0', '0', '1', '1'): ['Build a Nucleus', 'Circuit Construction Kit: AC', 'Circuit Construction Kit: AC - Virtual Lab', 'Normal Modes', 'Fourier: Making Waves', 'Energy Skate Park', 'Vector Addition', 'Curve Fitting', 'Gas Properties', \"Coulomb's Law\", 'Masses and Springs', 'States of Matter', 'Atomic Interactions', 'Rutherford Scattering', \"Hooke's Law\", 'Gravity Force Lab'], ('0', '1', '1', '1'): ['Geometric Optics', 'Collision Lab', 'Diffusion', 'Blackbody Spectrum', 'Capacitor Lab: Basics', 'Plinko Probability', 'Charges and Fields', 'Modecules and Light', \"Faraday's Law\", 'Wave on a String', 'Under Pressure', \"Ohm's Law\", 'Resistance in a Wire', 'Build an Atom'], ('1', '1', '0', '0'): ['Gases Intro', 'Masses and Springs: Basics']}\n",
      "[('1111', 17), ('1110', 4), ('0011', 16), ('0111', 14), ('1100', 2)]\n"
     ]
    }
   ],
   "source": [
    "from collections import Counter\n",
    "data = dict()\n",
    "with open('./PhET_sim_count.csv') as f:\n",
    "  reader = csv.reader(f)\n",
    "  next(reader)\n",
    "  for x in reader:\n",
    "    key = tuple(x[1:])\n",
    "    if key in data.keys():\n",
    "      data[key].append(x[0])\n",
    "    else:\n",
    "      data[key] = [x[0]]\n",
    "print(data)\n",
    "print([(''.join(key), len(value)) for key, value in data.items()])\n"
   ]
  },
  {
   "cell_type": "code",
   "execution_count": null,
   "metadata": {},
   "outputs": [],
   "source": []
  }
 ],
 "metadata": {
  "kernelspec": {
   "display_name": "venv",
   "language": "python",
   "name": "python3"
  },
  "language_info": {
   "codemirror_mode": {
    "name": "ipython",
    "version": 3
   },
   "file_extension": ".py",
   "mimetype": "text/x-python",
   "name": "python",
   "nbconvert_exporter": "python",
   "pygments_lexer": "ipython3",
   "version": "3.10.1"
  },
  "orig_nbformat": 4,
  "vscode": {
   "interpreter": {
    "hash": "5fac4fb3ad2957fc67c952d165b4e8a63b36f6408fad2c1910fabd5b904f7d57"
   }
  }
 },
 "nbformat": 4,
 "nbformat_minor": 2
}
