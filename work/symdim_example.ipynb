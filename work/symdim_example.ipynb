{
 "cells": [
  {
   "cell_type": "code",
   "execution_count": 31,
   "metadata": {},
   "outputs": [],
   "source": [
    "from IPython.display import display\n",
    "from symdim import SymDim as S\n",
    "from astropy import units as u\n",
    "L, M, T = u.m, u.kg, u.s\n",
    "\n",
    "def subs(self, *args):\n",
    "  self.set_expression(self.expression.subs(args))\n",
    "S.subs = subs"
   ]
  },
  {
   "cell_type": "code",
   "execution_count": 32,
   "metadata": {},
   "outputs": [
    {
     "data": {
      "text/latex": [
       "$$ g \\;\\left[ \\mathrm{\\frac{m}{s^{2}}} \\right] $$"
      ],
      "text/plain": [
       "SymDim(name=g,expression=g,unit=1.0 m / s2,valueKnown=False)"
      ]
     },
     "metadata": {},
     "output_type": "display_data"
    }
   ],
   "source": [
    "t = S('t', unit=T)\n",
    "g = S('g', unit=L/(T**2))\n",
    "display(g)"
   ]
  },
  {
   "cell_type": "code",
   "execution_count": 33,
   "metadata": {},
   "outputs": [],
   "source": [
    "x_A = S('x_A', unit=L)\n",
    "y_A = S('y_A', unit=L)\n",
    "v_Ax = S('v_{Ax}', unit=L/T)\n",
    "v_Ay = S('v_{Ay}', unit=L/T)\n",
    "\n",
    "v_0x = S('v_{0x}', unit=L/T)\n",
    "v_0y = S('v_{0y}', unit=L/T)"
   ]
  },
  {
   "cell_type": "code",
   "execution_count": 34,
   "metadata": {},
   "outputs": [
    {
     "data": {
      "text/latex": [
       "$$ y_A = - \\frac{g t^{2}}{2} + t v_{0y} \\;\\left[ \\mathrm{m} \\right] $$"
      ],
      "text/plain": [
       "SymDim(name=y_A,expression=-g*t**2/2 + t*v_{0y},unit=0.5 m,valueKnown=False)"
      ]
     },
     "metadata": {},
     "output_type": "display_data"
    }
   ],
   "source": [
    "v_Ax.equals(v_0x)\n",
    "v_Ay.equals(v_0y - g * t)\n",
    "x_A.equals(v_0x * t)\n",
    "y_A.equals(v_0y*t - g*t**2/S(2))\n",
    "display(y_A)"
   ]
  },
  {
   "cell_type": "code",
   "execution_count": 40,
   "metadata": {},
   "outputs": [
    {
     "ename": "AttributeError",
     "evalue": "'function' object has no attribute 'subs'",
     "output_type": "error",
     "traceback": [
      "\u001b[0;31m---------------------------------------------------------------------------\u001b[0m",
      "\u001b[0;31mAttributeError\u001b[0m                            Traceback (most recent call last)",
      "Cell \u001b[0;32mIn[40], line 1\u001b[0m\n\u001b[0;32m----> 1\u001b[0m display(y_A\u001b[39m.\u001b[39;49mequals\u001b[39m.\u001b[39;49msubs([(g, \u001b[39m2\u001b[39m)]))\n",
      "\u001b[0;31mAttributeError\u001b[0m: 'function' object has no attribute 'subs'"
     ]
    }
   ],
   "source": [
    "display(y_A.equals.subs([(g, 2)]))"
   ]
  },
  {
   "cell_type": "code",
   "execution_count": null,
   "metadata": {},
   "outputs": [],
   "source": []
  },
  {
   "cell_type": "code",
   "execution_count": null,
   "metadata": {},
   "outputs": [],
   "source": []
  }
 ],
 "metadata": {
  "kernelspec": {
   "display_name": "venv",
   "language": "python",
   "name": "python3"
  },
  "language_info": {
   "codemirror_mode": {
    "name": "ipython",
    "version": 3
   },
   "file_extension": ".py",
   "mimetype": "text/x-python",
   "name": "python",
   "nbconvert_exporter": "python",
   "pygments_lexer": "ipython3",
   "version": "3.10.1"
  },
  "orig_nbformat": 4,
  "vscode": {
   "interpreter": {
    "hash": "5fac4fb3ad2957fc67c952d165b4e8a63b36f6408fad2c1910fabd5b904f7d57"
   }
  }
 },
 "nbformat": 4,
 "nbformat_minor": 2
}
