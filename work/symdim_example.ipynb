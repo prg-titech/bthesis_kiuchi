{
 "cells": [
  {
   "cell_type": "code",
   "execution_count": 18,
   "metadata": {},
   "outputs": [],
   "source": [
    "from symdim import SymDim as S\n",
    "from astropy import units as u\n",
    "from astropy.units.physical import length, mass, time"
   ]
  },
  {
   "cell_type": "code",
   "execution_count": 26,
   "metadata": {},
   "outputs": [
    {
     "ename": "AttributeError",
     "evalue": "'IrreducibleUnit' object has no attribute 'value'",
     "output_type": "error",
     "traceback": [
      "\u001b[0;31m---------------------------------------------------------------------------\u001b[0m",
      "\u001b[0;31mAttributeError\u001b[0m                            Traceback (most recent call last)",
      "File \u001b[0;32m~/projects/bthesis_kiuchi/work/venv/lib/python3.10/site-packages/IPython/core/formatters.py:342\u001b[0m, in \u001b[0;36mBaseFormatter.__call__\u001b[0;34m(self, obj)\u001b[0m\n\u001b[1;32m    340\u001b[0m     method \u001b[39m=\u001b[39m get_real_method(obj, \u001b[39mself\u001b[39m\u001b[39m.\u001b[39mprint_method)\n\u001b[1;32m    341\u001b[0m     \u001b[39mif\u001b[39;00m method \u001b[39mis\u001b[39;00m \u001b[39mnot\u001b[39;00m \u001b[39mNone\u001b[39;00m:\n\u001b[0;32m--> 342\u001b[0m         \u001b[39mreturn\u001b[39;00m method()\n\u001b[1;32m    343\u001b[0m     \u001b[39mreturn\u001b[39;00m \u001b[39mNone\u001b[39;00m\n\u001b[1;32m    344\u001b[0m \u001b[39melse\u001b[39;00m:\n",
      "File \u001b[0;32m~/projects/bthesis_kiuchi/work/venv/lib/python3.10/site-packages/symdim/__init__.py:269\u001b[0m, in \u001b[0;36mSymDim._repr_latex_\u001b[0;34m(self)\u001b[0m\n\u001b[1;32m    267\u001b[0m latex_rep\u001b[39m.\u001b[39mappend(\u001b[39m'\u001b[39m\u001b[39m\\\\\u001b[39;00m\u001b[39m;\u001b[39m\u001b[39m\\\\\u001b[39;00m\u001b[39mleft[\u001b[39m\u001b[39m'\u001b[39m)\n\u001b[1;32m    268\u001b[0m \u001b[39mif\u001b[39;00m \u001b[39mself\u001b[39m\u001b[39m.\u001b[39mvalueKnown:\n\u001b[0;32m--> 269\u001b[0m     latex_rep\u001b[39m.\u001b[39mappend(\u001b[39m'\u001b[39m\u001b[39m{}\u001b[39;00m\u001b[39m\\\\\u001b[39;00m\u001b[39m;\u001b[39m\u001b[39m'\u001b[39m\u001b[39m.\u001b[39mformat(num2tex(\u001b[39mself\u001b[39;49m\u001b[39m.\u001b[39;49munit\u001b[39m.\u001b[39;49mdecompose()\u001b[39m.\u001b[39;49mvalue)))\n\u001b[1;32m    270\u001b[0m \u001b[39mif\u001b[39;00m \u001b[39mself\u001b[39m\u001b[39m.\u001b[39munit \u001b[39mis\u001b[39;00m \u001b[39mNone\u001b[39;00m:\n\u001b[1;32m    271\u001b[0m     latex_rep\u001b[39m.\u001b[39mappend(\u001b[39m'\u001b[39m\u001b[39m\\\\\u001b[39;00m\u001b[39mmathrm\u001b[39m\u001b[39m{unitless}\u001b[39;00m\u001b[39m'\u001b[39m)\n",
      "\u001b[0;31mAttributeError\u001b[0m: 'IrreducibleUnit' object has no attribute 'value'"
     ]
    },
    {
     "data": {
      "text/plain": [
       "SymDim(name=x,expression=x,unit=m,valueKnown=True)"
      ]
     },
     "execution_count": 26,
     "metadata": {},
     "output_type": "execute_result"
    }
   ],
   "source": [
    "x = S('x', unit=u.m, valueKnown=True)\n",
    "x"
   ]
  },
  {
   "cell_type": "code",
   "execution_count": null,
   "metadata": {},
   "outputs": [],
   "source": []
  }
 ],
 "metadata": {
  "kernelspec": {
   "display_name": "venv",
   "language": "python",
   "name": "python3"
  },
  "language_info": {
   "codemirror_mode": {
    "name": "ipython",
    "version": 3
   },
   "file_extension": ".py",
   "mimetype": "text/x-python",
   "name": "python",
   "nbconvert_exporter": "python",
   "pygments_lexer": "ipython3",
   "version": "3.10.1"
  },
  "orig_nbformat": 4,
  "vscode": {
   "interpreter": {
    "hash": "5fac4fb3ad2957fc67c952d165b4e8a63b36f6408fad2c1910fabd5b904f7d57"
   }
  }
 },
 "nbformat": 4,
 "nbformat_minor": 2
}
