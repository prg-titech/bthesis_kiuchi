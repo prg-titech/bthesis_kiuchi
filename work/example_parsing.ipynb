{
 "cells": [
  {
   "cell_type": "code",
   "execution_count": 1,
   "metadata": {},
   "outputs": [
    {
     "data": {
      "text/latex": [
       "$\\displaystyle v = a t + v_{0}$"
      ],
      "text/plain": [
       "Eq(v, a*t + v_0)"
      ]
     },
     "execution_count": 1,
     "metadata": {},
     "output_type": "execute_result"
    }
   ],
   "source": [
    "from sympy.parsing.sympy_parser import parse_expr\n",
    "eq = parse_expr('v=v_0 + at', transformations='all')\n",
    "eq"
   ]
  },
  {
   "cell_type": "code",
   "execution_count": 2,
   "metadata": {},
   "outputs": [
    {
     "data": {
      "text/latex": [
       "$\\displaystyle v = 7$"
      ],
      "text/plain": [
       "Eq(v, 7)"
      ]
     },
     "execution_count": 2,
     "metadata": {},
     "output_type": "execute_result"
    }
   ],
   "source": [
    "eq.subs({'v_0':1, 'a': 2, 't': 3})"
   ]
  },
  {
   "cell_type": "code",
   "execution_count": 3,
   "metadata": {},
   "outputs": [
    {
     "data": {
      "text/latex": [
       "$\\displaystyle v_{Ax} = a t + v_{0x}$"
      ],
      "text/plain": [
       "Eq(v_Ax, a*t + v_0x)"
      ]
     },
     "execution_count": 3,
     "metadata": {},
     "output_type": "execute_result"
    }
   ],
   "source": [
    "parse_expr('v_Ax=v_0x + at', transformations='all')"
   ]
  },
  {
   "cell_type": "code",
   "execution_count": 3,
   "metadata": {},
   "outputs": [
    {
     "data": {
      "text/latex": [
       "$\\displaystyle v_{A} x$"
      ],
      "text/plain": [
       "v_A*x"
      ]
     },
     "execution_count": 3,
     "metadata": {},
     "output_type": "execute_result"
    }
   ],
   "source": [
    "parse_expr('v_A x', transformations='all')"
   ]
  },
  {
   "cell_type": "code",
   "execution_count": 30,
   "metadata": {},
   "outputs": [],
   "source": [
    "eq1 = parse_expr('x = v_0x*t', transformations='all')\n",
    "eq2 = parse_expr('y = v_0y*t - 1/2*gt^2', transformations='all')"
   ]
  },
  {
   "cell_type": "code",
   "execution_count": 31,
   "metadata": {},
   "outputs": [
    {
     "data": {
      "text/latex": [
       "$\\displaystyle \\frac{x}{v_{0x}}$"
      ],
      "text/plain": [
       "x/v_0x"
      ]
     },
     "execution_count": 31,
     "metadata": {},
     "output_type": "execute_result"
    }
   ],
   "source": [
    "from sympy import solve\n",
    "t = solve(eq1, 't')[0]\n",
    "t"
   ]
  },
  {
   "cell_type": "code",
   "execution_count": 35,
   "metadata": {},
   "outputs": [
    {
     "data": {
      "text/latex": [
       "$\\displaystyle - \\frac{g x^{2}}{2 v_{0x}^{2}} + \\frac{v_{0y} x}{v_{0x}}$"
      ],
      "text/plain": [
       "-g*x**2/(2*v_0x**2) + v_0y*x/v_0x"
      ]
     },
     "execution_count": 35,
     "metadata": {},
     "output_type": "execute_result"
    }
   ],
   "source": [
    "eq3 = eq2.subs({'t':t})\n",
    "eq3.rhs"
   ]
  },
  {
   "cell_type": "code",
   "execution_count": 48,
   "metadata": {},
   "outputs": [
    {
     "data": {
      "text/latex": [
       "$\\displaystyle \\frac{v_{0y}}{2 v_{0x}}$"
      ],
      "text/plain": [
       "v_0y/(2*v_0x)"
      ]
     },
     "execution_count": 48,
     "metadata": {},
     "output_type": "execute_result"
    }
   ],
   "source": [
    "from sympy import symbols, latex\n",
    "x, h, k = symbols('x h k')\n",
    "f = (x + h)**2 + k\n",
    "h_, k_ = solve(eq3.rhs - f, [h, k])[0]\n",
    "h_"
   ]
  },
  {
   "cell_type": "code",
   "execution_count": 49,
   "metadata": {},
   "outputs": [
    {
     "data": {
      "text/latex": [
       "$\\displaystyle - \\frac{v_{0y}^{2}}{4 v_{0x}^{2}}$"
      ],
      "text/plain": [
       "-v_0y**2/(4*v_0x**2)"
      ]
     },
     "execution_count": 49,
     "metadata": {},
     "output_type": "execute_result"
    }
   ],
   "source": [
    "k_"
   ]
  },
  {
   "cell_type": "code",
   "execution_count": null,
   "metadata": {},
   "outputs": [],
   "source": []
  }
 ],
 "metadata": {
  "kernelspec": {
   "display_name": "Python 3 (ipykernel)",
   "language": "python",
   "name": "python3"
  },
  "language_info": {
   "codemirror_mode": {
    "name": "ipython",
    "version": 3
   },
   "file_extension": ".py",
   "mimetype": "text/x-python",
   "name": "python",
   "nbconvert_exporter": "python",
   "pygments_lexer": "ipython3",
   "version": "3.10.1"
  },
  "vscode": {
   "interpreter": {
    "hash": "5fac4fb3ad2957fc67c952d165b4e8a63b36f6408fad2c1910fabd5b904f7d57"
   }
  }
 },
 "nbformat": 4,
 "nbformat_minor": 4
}
