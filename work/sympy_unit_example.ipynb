{
 "cells": [
  {
   "cell_type": "code",
   "execution_count": 1,
   "metadata": {},
   "outputs": [
    {
     "data": {
      "text/latex": [
       "$\\displaystyle g + t$"
      ],
      "text/plain": [
       "g + t"
      ]
     },
     "execution_count": 1,
     "metadata": {},
     "output_type": "execute_result"
    }
   ],
   "source": [
    "from sympy.physics.units.systems import SI\n",
    "from sympy.physics.units import Quantity, length, time\n",
    "from sympy.physics.units.systems.si import dimsys_SI\n",
    "t = Quantity('t', latex_repr='t')\n",
    "SI.set_quantity_dimension(t, dimension=time)\n",
    "g = Quantity('g', latex_repr='g')\n",
    "SI.set_quantity_dimension(g, dimension=length/time**2)\n",
    "\n",
    "foo = t + g\n",
    "foo"
   ]
  }
 ],
 "metadata": {
  "kernelspec": {
   "display_name": "venv",
   "language": "python",
   "name": "python3"
  },
  "language_info": {
   "codemirror_mode": {
    "name": "ipython",
    "version": 3
   },
   "file_extension": ".py",
   "mimetype": "text/x-python",
   "name": "python",
   "nbconvert_exporter": "python",
   "pygments_lexer": "ipython3",
   "version": "3.10.1"
  },
  "orig_nbformat": 4,
  "vscode": {
   "interpreter": {
    "hash": "5fac4fb3ad2957fc67c952d165b4e8a63b36f6408fad2c1910fabd5b904f7d57"
   }
  }
 },
 "nbformat": 4,
 "nbformat_minor": 2
}
