{
 "cells": [
  {
   "cell_type": "code",
   "execution_count": 1,
   "metadata": {},
   "outputs": [
    {
     "data": {
      "text/latex": [
       "$\\displaystyle v = a t + v_{0}$"
      ],
      "text/plain": [
       "Eq(v, a*t + v_0)"
      ]
     },
     "execution_count": 1,
     "metadata": {},
     "output_type": "execute_result"
    }
   ],
   "source": [
    "from sympy.parsing.sympy_parser import parse_expr\n",
    "eq = parse_expr('v=v_0 + at', transformations='all')\n",
    "eq"
   ]
  },
  {
   "cell_type": "code",
   "execution_count": 2,
   "metadata": {},
   "outputs": [
    {
     "data": {
      "text/latex": [
       "$\\displaystyle v = 7$"
      ],
      "text/plain": [
       "Eq(v, 7)"
      ]
     },
     "execution_count": 2,
     "metadata": {},
     "output_type": "execute_result"
    }
   ],
   "source": [
    "eq.subs({'v_0':1, 'a': 2, 't': 3})"
   ]
  },
  {
   "cell_type": "code",
   "execution_count": 3,
   "metadata": {},
   "outputs": [
    {
     "data": {
      "text/latex": [
       "$\\displaystyle v_{Ax} = a t + v_{0x}$"
      ],
      "text/plain": [
       "Eq(v_Ax, a*t + v_0x)"
      ]
     },
     "execution_count": 3,
     "metadata": {},
     "output_type": "execute_result"
    }
   ],
   "source": [
    "parse_expr('v_Ax=v_0x + at', transformations='all')"
   ]
  },
  {
   "cell_type": "code",
   "execution_count": 3,
   "metadata": {},
   "outputs": [
    {
     "data": {
      "text/latex": [
       "$\\displaystyle v_{A} x$"
      ],
      "text/plain": [
       "v_A*x"
      ]
     },
     "execution_count": 3,
     "metadata": {},
     "output_type": "execute_result"
    }
   ],
   "source": [
    "parse_expr('v_A x', transformations='all')"
   ]
  },
  {
   "cell_type": "code",
   "execution_count": 4,
   "metadata": {},
   "outputs": [
    {
     "ename": "SyntaxError",
     "evalue": "invalid syntax (<string>, line 1)",
     "output_type": "error",
     "traceback": [
      "\u001b[0;31mValueError\u001b[0m\u001b[0;31m:\u001b[0m Error from parse_expr with transformed code: \"Symbol ('x' )=Symbol ('v_0x' )*Symbol ('t' )\"\n",
      "\nThe above exception was the direct cause of the following exception:\n",
      "Traceback \u001b[0;36m(most recent call last)\u001b[0m:\n",
      "  File \u001b[1;32m\"/Users/flutcla/.local/share/virtualenvs/kyopuro-nBB8t09f/lib/python3.10/site-packages/IPython/core/interactiveshell.py\"\u001b[0m, line \u001b[1;32m3457\u001b[0m, in \u001b[1;35mrun_code\u001b[0m\n    exec(code_obj, self.user_global_ns, self.user_ns)\n",
      "  File \u001b[1;32m\"/var/folders/db/552rqg851m7c1g8ntj63vtl00000gn/T/ipykernel_57373/17834258.py\"\u001b[0m, line \u001b[1;32m1\u001b[0m, in \u001b[1;35m<module>\u001b[0m\n    eq1 = parse_expr('x = v_0x*t')\n",
      "  File \u001b[1;32m\"/Users/flutcla/.local/share/virtualenvs/kyopuro-nBB8t09f/lib/python3.10/site-packages/sympy/parsing/sympy_parser.py\"\u001b[0m, line \u001b[1;32m1101\u001b[0m, in \u001b[1;35mparse_expr\u001b[0m\n    raise e from ValueError(f\"Error from parse_expr with transformed code: {code!r}\")\n",
      "  File \u001b[1;32m\"/Users/flutcla/.local/share/virtualenvs/kyopuro-nBB8t09f/lib/python3.10/site-packages/sympy/parsing/sympy_parser.py\"\u001b[0m, line \u001b[1;32m1092\u001b[0m, in \u001b[1;35mparse_expr\u001b[0m\n    rv = eval_expr(code, local_dict, global_dict)\n",
      "\u001b[0;36m  File \u001b[0;32m\"/Users/flutcla/.local/share/virtualenvs/kyopuro-nBB8t09f/lib/python3.10/site-packages/sympy/parsing/sympy_parser.py\"\u001b[0;36m, line \u001b[0;32m907\u001b[0;36m, in \u001b[0;35meval_expr\u001b[0;36m\u001b[0m\n\u001b[0;31m    expr = eval(\u001b[0m\n",
      "\u001b[0;36m  File \u001b[0;32m\"<string>\"\u001b[0;36m, line \u001b[0;32m1\u001b[0m\n\u001b[0;31m    Symbol ('x' )=Symbol ('v_0x' )*Symbol ('t' )\u001b[0m\n\u001b[0m                 ^\u001b[0m\n\u001b[0;31mSyntaxError\u001b[0m\u001b[0;31m:\u001b[0m invalid syntax\n"
     ]
    }
   ],
   "source": [
    "eq1 = parse_expr('x = v_0x*t', transformations='all')\n",
    "eq2 = parse_expr('y = v_0y*t - 1/2*gt^2', transformations='all')"
   ]
  },
  {
   "cell_type": "code",
   "execution_count": null,
   "metadata": {},
   "outputs": [],
   "source": []
  }
 ],
 "metadata": {
  "kernelspec": {
   "display_name": "Python 3 (ipykernel)",
   "language": "python",
   "name": "python3"
  },
  "language_info": {
   "codemirror_mode": {
    "name": "ipython",
    "version": 3
   },
   "file_extension": ".py",
   "mimetype": "text/x-python",
   "name": "python",
   "nbconvert_exporter": "python",
   "pygments_lexer": "ipython3",
   "version": "3.10.1"
  },
  "vscode": {
   "interpreter": {
    "hash": "5fac4fb3ad2957fc67c952d165b4e8a63b36f6408fad2c1910fabd5b904f7d57"
   }
  }
 },
 "nbformat": 4,
 "nbformat_minor": 4
}
