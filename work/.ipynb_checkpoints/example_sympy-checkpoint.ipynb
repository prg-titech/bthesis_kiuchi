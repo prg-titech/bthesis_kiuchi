{
 "cells": [
  {
   "cell_type": "code",
   "execution_count": 1,
   "metadata": {},
   "outputs": [
    {
     "data": {
      "text/latex": [
       "$\\displaystyle v = a t + v_{0}$"
      ],
      "text/plain": [
       "Eq(v, a*t + v_0)"
      ]
     },
     "execution_count": 1,
     "metadata": {},
     "output_type": "execute_result"
    }
   ],
   "source": [
    "from sympy import Eq, symbols, solve\n",
    "v, v_0, a, t = symbols('v v_0 a t')\n",
    "eq = Eq(v, v_0 + a * t)\n",
    "eq"
   ]
  },
  {
   "cell_type": "code",
   "execution_count": 2,
   "metadata": {},
   "outputs": [
    {
     "data": {
      "text/latex": [
       "$\\displaystyle v = 7$"
      ],
      "text/plain": [
       "Eq(v, 7)"
      ]
     },
     "execution_count": 2,
     "metadata": {},
     "output_type": "execute_result"
    }
   ],
   "source": [
    "eq.subs({v_0:1, a: 2, t: 3})"
   ]
  },
  {
   "cell_type": "code",
   "execution_count": null,
   "metadata": {},
   "outputs": [],
   "source": []
  }
 ],
 "metadata": {
  "kernelspec": {
   "display_name": "Python 3 (ipykernel)",
   "language": "python",
   "name": "python3"
  },
  "language_info": {
   "codemirror_mode": {
    "name": "ipython",
    "version": 3
   },
   "file_extension": ".py",
   "mimetype": "text/x-python",
   "name": "python",
   "nbconvert_exporter": "python",
   "pygments_lexer": "ipython3",
   "version": "3.10.1"
  },
  "vscode": {
   "interpreter": {
    "hash": "5fac4fb3ad2957fc67c952d165b4e8a63b36f6408fad2c1910fabd5b904f7d57"
   }
  }
 },
 "nbformat": 4,
 "nbformat_minor": 4
}
