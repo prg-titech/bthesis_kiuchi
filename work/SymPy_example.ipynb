{
 "cells": [
  {
   "attachments": {},
   "cell_type": "markdown",
   "metadata": {},
   "source": [
    "> 初速$~v_0~$,加速度$~-g~$で動いている物体の時刻$~t~$における速度と位置を求めよ"
   ]
  },
  {
   "cell_type": "code",
   "execution_count": 1,
   "metadata": {},
   "outputs": [],
   "source": [
    "from sympy import *\n",
    "# 文字を作る\n",
    "v0, g, t = symbols('v_0 g t', real=True, positive=True)\n",
    "v, x = symbols('v x')"
   ]
  },
  {
   "cell_type": "code",
   "execution_count": 2,
   "metadata": {},
   "outputs": [
    {
     "data": {
      "text/latex": [
       "$\\displaystyle v = - g t + v_{0}$"
      ],
      "text/plain": [
       "Eq(v, -g*t + v_0)"
      ]
     },
     "execution_count": 2,
     "metadata": {},
     "output_type": "execute_result"
    }
   ],
   "source": [
    "# 立式する\n",
    "eq1 = Eq(v, v0 - g * t)\n",
    "eq1"
   ]
  },
  {
   "cell_type": "code",
   "execution_count": 3,
   "metadata": {},
   "outputs": [
    {
     "data": {
      "text/latex": [
       "$\\displaystyle x = - \\frac{g t^{2}}{2} + t v_{0}$"
      ],
      "text/plain": [
       "Eq(x, -g*t**2/2 + t*v_0)"
      ]
     },
     "execution_count": 3,
     "metadata": {},
     "output_type": "execute_result"
    }
   ],
   "source": [
    "eq2 = Eq(x, v0 * t - Rational(1,2) * g * t ** 2)\n",
    "eq2"
   ]
  },
  {
   "cell_type": "code",
   "execution_count": 4,
   "metadata": {},
   "outputs": [
    {
     "data": {
      "text/latex": [
       "$\\displaystyle \\frac{- v + v_{0}}{g}$"
      ],
      "text/plain": [
       "(-v + v_0)/g"
      ]
     },
     "execution_count": 4,
     "metadata": {},
     "output_type": "execute_result"
    }
   ],
   "source": [
    "# 他の文字について解くこともできる\n",
    "solve(eq1, t)[0]"
   ]
  }
 ],
 "metadata": {
  "kernelspec": {
   "display_name": "venv",
   "language": "python",
   "name": "python3"
  },
  "language_info": {
   "codemirror_mode": {
    "name": "ipython",
    "version": 3
   },
   "file_extension": ".py",
   "mimetype": "text/x-python",
   "name": "python",
   "nbconvert_exporter": "python",
   "pygments_lexer": "ipython3",
   "version": "3.10.1"
  },
  "orig_nbformat": 4,
  "vscode": {
   "interpreter": {
    "hash": "5fac4fb3ad2957fc67c952d165b4e8a63b36f6408fad2c1910fabd5b904f7d57"
   }
  }
 },
 "nbformat": 4,
 "nbformat_minor": 2
}
