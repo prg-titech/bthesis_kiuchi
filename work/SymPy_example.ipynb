{
 "cells": [
  {
   "cell_type": "code",
   "execution_count": 1,
   "metadata": {},
   "outputs": [],
   "source": [
    "from IPython.display import display, Math\n",
    "from sympy import Eq, solve, latex\n",
    "from sympy.physics.units.systems import SI\n",
    "from sympy.physics.units import Quantity, length, mass, time"
   ]
  },
  {
   "cell_type": "code",
   "execution_count": 2,
   "metadata": {},
   "outputs": [],
   "source": [
    "# デフォルトで用意されている変数 t, g と\n",
    "# 物体 A に紐付く変数 x_A, y_A, v_{Ax}, v_{Ay} を生成\n",
    "t = Quantity('t', latex_repr='t')\n",
    "SI.set_quantity_dimension(t, dimension=time)\n",
    "g = Quantity('g', latex_repr='g')\n",
    "SI.set_quantity_dimension(g, dimension=length/time**2)\n",
    "xA = Quantity('xA', latex_repr='x_A')\n",
    "SI.set_quantity_dimension(xA, dimension=length)\n",
    "yA = Quantity('yA', latex_repr='y_A')\n",
    "SI.set_quantity_dimension(yA, dimension=length)\n",
    "vAx = Quantity('vAx', latex_repr='v_{Ax}')\n",
    "SI.set_quantity_dimension(vAx, dimension=length/time)\n",
    "vAy = Quantity('vAy', latex_repr='v_{Ay}')\n",
    "SI.set_quantity_dimension(vAy, dimension=length/time)"
   ]
  },
  {
   "cell_type": "code",
   "execution_count": 3,
   "metadata": {},
   "outputs": [],
   "source": [
    "# v_{0x} と v_{0y} を生成\n",
    "v0x = Quantity('v0x', latex_repr='v_{0x}')\n",
    "SI.set_quantity_dimension(v0x, dimension=length/time)\n",
    "v0y = Quantity('v0y', latex_repr='v_{0y}')\n",
    "SI.set_quantity_dimension(v0y, dimension=length/time)"
   ]
  },
  {
   "cell_type": "code",
   "execution_count": 4,
   "metadata": {},
   "outputs": [
    {
     "data": {
      "text/latex": [
       "$\\displaystyle v_{Ax} = v_{0x}$"
      ],
      "text/plain": [
       "Eq(vAx, v0x)"
      ]
     },
     "metadata": {},
     "output_type": "display_data"
    },
    {
     "data": {
      "text/latex": [
       "$\\displaystyle v_{Ay} = - g t + v_{0y}$"
      ],
      "text/plain": [
       "Eq(vAy, -g*t + v0y)"
      ]
     },
     "metadata": {},
     "output_type": "display_data"
    },
    {
     "data": {
      "text/latex": [
       "$\\displaystyle x_A = t v_{0x}$"
      ],
      "text/plain": [
       "Eq(xA, t*v0x)"
      ]
     },
     "metadata": {},
     "output_type": "display_data"
    },
    {
     "data": {
      "text/latex": [
       "$\\displaystyle y_A = - \\frac{g t}{2} + t v_{0y}$"
      ],
      "text/plain": [
       "Eq(yA, -g*t/2 + t*v0y)"
      ]
     },
     "metadata": {},
     "output_type": "display_data"
    }
   ],
   "source": [
    "# 各変数が満たすべき方程式を作成\n",
    "eqs = [Eq(vAx, v0x), Eq(vAy, v0y - g * t), Eq(xA, v0x * t), Eq(yA, v0y * t - g * t / 2)]\n",
    "for eq in eqs: display(eq)"
   ]
  },
  {
   "cell_type": "code",
   "execution_count": 5,
   "metadata": {},
   "outputs": [
    {
     "data": {
      "text/latex": [
       "$\\displaystyle v_{Ax} = 3$"
      ],
      "text/plain": [
       "<IPython.core.display.Math object>"
      ]
     },
     "metadata": {},
     "output_type": "display_data"
    },
    {
     "data": {
      "text/latex": [
       "$\\displaystyle v_{Ay} = 0$"
      ],
      "text/plain": [
       "<IPython.core.display.Math object>"
      ]
     },
     "metadata": {},
     "output_type": "display_data"
    },
    {
     "data": {
      "text/latex": [
       "$\\displaystyle x_A = 6$"
      ],
      "text/plain": [
       "<IPython.core.display.Math object>"
      ]
     },
     "metadata": {},
     "output_type": "display_data"
    },
    {
     "data": {
      "text/latex": [
       "$\\displaystyle y_A = 6$"
      ],
      "text/plain": [
       "<IPython.core.display.Math object>"
      ]
     },
     "metadata": {},
     "output_type": "display_data"
    }
   ],
   "source": [
    "# 初期値を代入\n",
    "param = {t: 2, g: 2, v0x: 3, v0y: 4}\n",
    "for eq in eqs: display(Math(f'{latex(eq.lhs)} = {latex(eq.rhs.subs(param))}'))"
   ]
  }
 ],
 "metadata": {
  "kernelspec": {
   "display_name": "venv",
   "language": "python",
   "name": "python3"
  },
  "language_info": {
   "codemirror_mode": {
    "name": "ipython",
    "version": 3
   },
   "file_extension": ".py",
   "mimetype": "text/x-python",
   "name": "python",
   "nbconvert_exporter": "python",
   "pygments_lexer": "ipython3",
   "version": "3.10.1"
  },
  "orig_nbformat": 4,
  "vscode": {
   "interpreter": {
    "hash": "5fac4fb3ad2957fc67c952d165b4e8a63b36f6408fad2c1910fabd5b904f7d57"
   }
  }
 },
 "nbformat": 4,
 "nbformat_minor": 2
}
