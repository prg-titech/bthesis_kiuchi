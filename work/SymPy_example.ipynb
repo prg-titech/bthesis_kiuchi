{
 "cells": [
  {
   "cell_type": "code",
   "execution_count": 42,
   "metadata": {},
   "outputs": [],
   "source": [
    "from sympy import symbols, Eq\n",
    "from sympy.physics.units.systems import SI\n",
    "from sympy.physics.units import Quantity, length, mass, time"
   ]
  },
  {
   "cell_type": "code",
   "execution_count": 39,
   "metadata": {},
   "outputs": [],
   "source": [
    "xA = Quantity('xA', latex_repr='x_A')\n",
    "SI.set_quantity_dimension(xA, dimension=length)\n",
    "yA = Quantity('yA', latex_repr='y_A')\n",
    "SI.set_quantity_dimension(xA, dimension=length)\n",
    "vAx = Quantity('vAx', latex_repr='v_{Ax}')\n",
    "SI.set_quantity_dimension(vAx, dimension=length/time)\n",
    "vAy = Quantity('vAy', latex_repr='v_{Ay}')\n",
    "SI.set_quantity_dimension(vAy, dimension=length/time)"
   ]
  },
  {
   "cell_type": "code",
   "execution_count": 40,
   "metadata": {},
   "outputs": [],
   "source": [
    "v0x = Quantity('v0x', latex_repr='v_{0x}')\n",
    "SI.set_quantity_dimension(v0x, dimension=length/time)\n",
    "v0y = Quantity('v0y', latex_repr='v_{0y}')\n",
    "SI.set_quantity_dimension(v0y, dimension=length/time)"
   ]
  },
  {
   "cell_type": "code",
   "execution_count": 43,
   "metadata": {},
   "outputs": [
    {
     "data": {
      "text/latex": [
       "$\\displaystyle v_{Ax} = v_{0x}$"
      ],
      "text/plain": [
       "Eq(vAx, v0x)"
      ]
     },
     "execution_count": 43,
     "metadata": {},
     "output_type": "execute_result"
    }
   ],
   "source": [
    "Eq(vAx, v0x)"
   ]
  },
  {
   "cell_type": "code",
   "execution_count": null,
   "metadata": {},
   "outputs": [],
   "source": []
  }
 ],
 "metadata": {
  "kernelspec": {
   "display_name": "venv",
   "language": "python",
   "name": "python3"
  },
  "language_info": {
   "codemirror_mode": {
    "name": "ipython",
    "version": 3
   },
   "file_extension": ".py",
   "mimetype": "text/x-python",
   "name": "python",
   "nbconvert_exporter": "python",
   "pygments_lexer": "ipython3",
   "version": "3.10.1"
  },
  "orig_nbformat": 4,
  "vscode": {
   "interpreter": {
    "hash": "5fac4fb3ad2957fc67c952d165b4e8a63b36f6408fad2c1910fabd5b904f7d57"
   }
  }
 },
 "nbformat": 4,
 "nbformat_minor": 2
}
